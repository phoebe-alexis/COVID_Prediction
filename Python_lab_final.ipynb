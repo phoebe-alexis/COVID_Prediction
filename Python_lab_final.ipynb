{
  "nbformat": 4,
  "nbformat_minor": 0,
  "metadata": {
    "colab": {
      "provenance": [],
      "gpuType": "T4",
      "authorship_tag": "ABX9TyOYY2jOiIDRNL7HLvDdWk9u",
      "include_colab_link": true
    },
    "kernelspec": {
      "name": "python3",
      "display_name": "Python 3"
    },
    "language_info": {
      "name": "python"
    },
    "accelerator": "GPU"
  },
  "cells": [
    {
      "cell_type": "markdown",
      "metadata": {
        "id": "view-in-github",
        "colab_type": "text"
      },
      "source": [
        "<a href=\"https://colab.research.google.com/github/phoebe-alexis/COVID_Prediction/blob/main/Python_lab_final.ipynb\" target=\"_parent\"><img src=\"https://colab.research.google.com/assets/colab-badge.svg\" alt=\"Open In Colab\"/></a>"
      ]
    },
    {
      "cell_type": "markdown",
      "source": [
        "Clone Git Repository"
      ],
      "metadata": {
        "id": "nvjhK13wbd1t"
      }
    },
    {
      "cell_type": "code",
      "execution_count": null,
      "metadata": {
        "colab": {
          "base_uri": "https://localhost:8080/"
        },
        "id": "cg7bQSxhbBr5",
        "outputId": "1d1cfbfb-a9ba-4bcc-bc37-b67c4028b21f"
      },
      "outputs": [
        {
          "output_type": "stream",
          "name": "stdout",
          "text": [
            "Mounted at /content/drive\n",
            "/content/drive/MyDrive\n",
            "fatal: destination path 'COVID_Prediction' already exists and is not an empty directory.\n",
            "/content/drive/MyDrive/COVID_Prediction\n",
            "cb_2018_us_state_500k.zip  __pycache__\t\t   time_series_covid19_confirmed_US.csv\n",
            "country_analysis.py\t   python_lab_final.ipynb  unzipfile.py\n",
            "county_analysis.py\t   shapefile_data\t   utils.py\n",
            "main.py\t\t\t   state_analysis.py\n"
          ]
        }
      ],
      "source": [
        "# Mount Google Drive\n",
        "from google.colab import drive\n",
        "drive.mount('/content/drive')\n",
        "\n",
        "# (Optional) Navigate to a directory in Google Drive\n",
        "%cd /content/drive/MyDrive/\n",
        "\n",
        "# Clone the repository\n",
        "!git clone https://github.com/phoebe-alexis/COVID_Prediction.git\n",
        "\n",
        "# Navigate to the repository\n",
        "%cd COVID_Prediction\n",
        "\n",
        "# List the contents\n",
        "!ls\n"
      ]
    },
    {
      "cell_type": "code",
      "source": [
        "!pip install PyQt5\n"
      ],
      "metadata": {
        "colab": {
          "base_uri": "https://localhost:8080/"
        },
        "id": "0kUx3u4wb9Rc",
        "outputId": "b2393fe4-62df-4ace-dbde-3057ba457b76"
      },
      "execution_count": null,
      "outputs": [
        {
          "output_type": "stream",
          "name": "stdout",
          "text": [
            "Collecting PyQt5\n",
            "  Downloading PyQt5-5.15.11-cp38-abi3-manylinux_2_17_x86_64.whl.metadata (2.1 kB)\n",
            "Collecting PyQt5-sip<13,>=12.15 (from PyQt5)\n",
            "  Downloading PyQt5_sip-12.16.1-cp311-cp311-manylinux_2_5_x86_64.manylinux1_x86_64.whl.metadata (421 bytes)\n",
            "Collecting PyQt5-Qt5<5.16.0,>=5.15.2 (from PyQt5)\n",
            "  Downloading PyQt5_Qt5-5.15.16-py3-none-manylinux2014_x86_64.whl.metadata (536 bytes)\n",
            "Downloading PyQt5-5.15.11-cp38-abi3-manylinux_2_17_x86_64.whl (8.2 MB)\n",
            "\u001b[2K   \u001b[90m━━━━━━━━━━━━━━━━━━━━━━━━━━━━━━━━━━━━━━━━\u001b[0m \u001b[32m8.2/8.2 MB\u001b[0m \u001b[31m47.3 MB/s\u001b[0m eta \u001b[36m0:00:00\u001b[0m\n",
            "\u001b[?25hDownloading PyQt5_Qt5-5.15.16-py3-none-manylinux2014_x86_64.whl (59.9 MB)\n",
            "\u001b[2K   \u001b[90m━━━━━━━━━━━━━━━━━━━━━━━━━━━━━━━━━━━━━━━━\u001b[0m \u001b[32m59.9/59.9 MB\u001b[0m \u001b[31m13.9 MB/s\u001b[0m eta \u001b[36m0:00:00\u001b[0m\n",
            "\u001b[?25hDownloading PyQt5_sip-12.16.1-cp311-cp311-manylinux_2_5_x86_64.manylinux1_x86_64.whl (276 kB)\n",
            "\u001b[2K   \u001b[90m━━━━━━━━━━━━━━━━━━━━━━━━━━━━━━━━━━━━━━━━\u001b[0m \u001b[32m276.2/276.2 kB\u001b[0m \u001b[31m16.9 MB/s\u001b[0m eta \u001b[36m0:00:00\u001b[0m\n",
            "\u001b[?25hInstalling collected packages: PyQt5-Qt5, PyQt5-sip, PyQt5\n",
            "Successfully installed PyQt5-5.15.11 PyQt5-Qt5-5.15.16 PyQt5-sip-12.16.1\n"
          ]
        }
      ]
    },
    {
      "cell_type": "code",
      "source": [
        "# Navigate to the directory containing the file\n",
        "%cd /content/drive/MyDrive/COVID_Prediction\n",
        "\n",
        "# Add the directory to the Python path\n",
        "import sys\n",
        "sys.path.append('/content/drive/MyDrive/COVID_Prediction')\n",
        "\n",
        "# Import the module\n",
        "from country_analysis import CountryAnalysis\n",
        "\n",
        "# Verify import\n",
        "print(\"Successfully imported CountryAnalysis!\")\n"
      ],
      "metadata": {
        "colab": {
          "base_uri": "https://localhost:8080/"
        },
        "id": "VljNeUCfdT8T",
        "outputId": "cbc0a6a3-592a-43b5-f159-fdcd35d103b2"
      },
      "execution_count": null,
      "outputs": [
        {
          "output_type": "stream",
          "name": "stdout",
          "text": [
            "/content/drive/MyDrive/COVID_Prediction\n",
            "Successfully imported CountryAnalysis!\n"
          ]
        }
      ]
    },
    {
      "cell_type": "code",
      "source": [
        "from PyQt5.QtWidgets import QApplication, QMainWindow, QPushButton, QVBoxLayout, QWidget, QLabel\n",
        "from country_analysis import CountryAnalysis\n",
        "from state_analysis import StateAnalysis\n",
        "from county_analysis import CountyAnalysis\n",
        "\n",
        "class MainApp(QMainWindow):\n",
        "    def __init__(self):\n",
        "        super().__init__()\n",
        "\n",
        "        # Set main window properties\n",
        "        self.setWindowTitle(\"COVID-19 Spread Prediction\")\n",
        "        self.setGeometry(100, 100, 800, 600)\n",
        "\n",
        "        # Initialize the home page\n",
        "        self.home_page()\n",
        "\n",
        "    def home_page(self):\n",
        "        \"\"\"Display the Home Page with navigation options.\"\"\"\n",
        "        central_widget = QWidget()\n",
        "        layout = QVBoxLayout()\n",
        "\n",
        "        title_label = QLabel(\"COVID-19 Spread Prediction App\")\n",
        "        title_label.setStyleSheet(\"font-size: 20px; font-weight: bold; text-align: center;\")\n",
        "        layout.addWidget(title_label)\n",
        "\n",
        "        analyze_data_button = QPushButton(\"Analyze Data\")\n",
        "        analyze_data_button.clicked.connect(self.analyze_data_page)\n",
        "        layout.addWidget(analyze_data_button)\n",
        "\n",
        "        central_widget.setLayout(layout)\n",
        "        self.setCentralWidget(central_widget)\n",
        "\n",
        "    def analyze_data_page(self):\n",
        "        \"\"\"Display the Analyze Data Page with analysis options.\"\"\"\n",
        "        central_widget = QWidget()\n",
        "        layout = QVBoxLayout()\n",
        "\n",
        "        title_label = QLabel(\"Analyze Data\")\n",
        "        title_label.setStyleSheet(\"font-size: 20px; font-weight: bold; text-align: center;\")\n",
        "        layout.addWidget(title_label)\n",
        "\n",
        "        # Navigation Buttons\n",
        "        country_analysis_button = QPushButton(\"Country-wide Analysis\")\n",
        "        country_analysis_button.clicked.connect(self.country_analysis_page)\n",
        "        layout.addWidget(country_analysis_button)\n",
        "\n",
        "        state_analysis_button = QPushButton(\"State-wide Analysis\")\n",
        "        state_analysis_button.clicked.connect(self.state_analysis_page)\n",
        "        layout.addWidget(state_analysis_button)\n",
        "\n",
        "        county_analysis_button = QPushButton(\"County-wide Analysis\")\n",
        "        county_analysis_button.clicked.connect(self.county_analysis_page)\n",
        "        layout.addWidget(county_analysis_button)\n",
        "\n",
        "        # Back button for Home Page\n",
        "        back_button = QPushButton(\"Back\")\n",
        "        back_button.clicked.connect(self.home_page)\n",
        "        layout.addWidget(back_button)\n",
        "\n",
        "        central_widget.setLayout(layout)\n",
        "        self.setCentralWidget(central_widget)\n",
        "\n",
        "    def country_analysis_page(self):\n",
        "        \"\"\"Navigate to the Country Analysis page.\"\"\"\n",
        "        self.country_analysis = CountryAnalysis(self)\n",
        "        self.setCentralWidget(self.country_analysis)\n",
        "\n",
        "    def state_analysis_page(self):\n",
        "        \"\"\"Navigate to the State Analysis page.\"\"\"\n",
        "        self.state_analysis = StateAnalysis(self)\n",
        "        self.setCentralWidget(self.state_analysis)\n",
        "\n",
        "    def county_analysis_page(self):\n",
        "        \"\"\"Navigate to the County Analysis page.\"\"\"\n",
        "        self.county_analysis = CountyAnalysis(self)\n",
        "        self.setCentralWidget(self.county_analysis)\n",
        "\n",
        "\n",
        "if __name__ == \"__main__\":\n",
        "    app = QApplication([])\n",
        "    main_window = MainApp()\n",
        "    main_window.show()\n",
        "    app.exec_()"
      ],
      "metadata": {
        "id": "3wYK1W5Qbr3Z"
      },
      "execution_count": null,
      "outputs": []
    }
  ]
}